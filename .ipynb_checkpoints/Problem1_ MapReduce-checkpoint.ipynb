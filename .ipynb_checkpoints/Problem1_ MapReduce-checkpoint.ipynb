{
 "cells": [
  {
   "cell_type": "code",
   "execution_count": 1,
   "id": "142f55b6",
   "metadata": {},
   "outputs": [],
   "source": [
    "import time\n",
    "from pyspark import SparkConf, SparkContext "
   ]
  },
  {
   "cell_type": "code",
   "execution_count": 2,
   "id": "4d4525e2",
   "metadata": {},
   "outputs": [],
   "source": [
    "configurations = SparkConf().setAppName(\"Statistics\").setMaster(\"local\")\n",
    "Context = SparkContext(conf=configurations)"
   ]
  },
  {
   "cell_type": "code",
   "execution_count": 3,
   "id": "1157ddc6",
   "metadata": {},
   "outputs": [],
   "source": [
    "Dataset = Context.textFile(\"./pagecounts-20160101-000000_parsed.out/pagecounts-20160101-000000_parsed.out\")\n"
   ]
  },
  {
   "cell_type": "code",
   "execution_count": 4,
   "id": "3001295f",
   "metadata": {
    "scrolled": true
   },
   "outputs": [
    {
     "data": {
      "text/plain": [
       "./pagecounts-20160101-000000_parsed.out/pagecounts-20160101-000000_parsed.out MapPartitionsRDD[1] at textFile at NativeMethodAccessorImpl.java:0"
      ]
     },
     "execution_count": 4,
     "metadata": {},
     "output_type": "execute_result"
    }
   ],
   "source": [
    "Dataset"
   ]
  },
  {
   "cell_type": "code",
   "execution_count": 5,
   "id": "21095a32",
   "metadata": {
    "scrolled": true
   },
   "outputs": [
    {
     "data": {
      "text/plain": [
       "[4675, 4770, 4694, 9372, 4662, 10752, 4679, 266946, 4733, 5812]"
      ]
     },
     "execution_count": 5,
     "metadata": {},
     "output_type": "execute_result"
    }
   ],
   "source": [
    "PagesRDD = Dataset.map(lambda record: int(record.split(' ')[3]))\n",
    "\n",
    "PagesRDD.take(10)"
   ]
  },
  {
   "cell_type": "code",
   "execution_count": 6,
   "id": "82712f15",
   "metadata": {},
   "outputs": [
    {
     "name": "stdout",
     "output_type": "stream",
     "text": [
      "Time  35.952269077301025\n",
      "Minimum: 0\n",
      "Maximum: 141180155987\n",
      "Average: 132239.56957446598\n"
     ]
    }
   ],
   "source": [
    "#minimum, maximum, and average page size if the page_sizes RDD is not empty\n",
    "\n",
    "if PagesRDD.isEmpty():\n",
    "    print(\"No data found\")\n",
    "    \n",
    "else:\n",
    "    startTime = time.time()\n",
    "    \n",
    "    Minimum = PagesRDD.reduce(lambda x, y: x if x < y else y)\n",
    "    Maximum = PagesRDD.reduce(lambda x, y: x if x > y else y)\n",
    "    Average = PagesRDD.reduce(lambda x, y: x + y) / PagesRDD.count()\n",
    "    \n",
    "    endTime = time.time()\n",
    "    TimeTaken=endTime - startTime\n",
    "    print(\"Time \",TimeTaken)\n",
    "    # Print the results\n",
    "    print(\"Minimum:\", Minimum)\n",
    "    print(\"Maximum:\", Maximum)\n",
    "    print(\"Average:\", Average)\n",
    "    \n",
    "    #WRITING ON FILE\n",
    "    with open(\"Question_1_MapReduce.txt\", \"w\") as f:\n",
    "        f.write(\"Time Taken for Process:\"+ str(TimeTaken)+'\\n')\n",
    "        f.write(\"Minimum:\"+ str(Minimum)+'\\n')\n",
    "        f.write(\"Maximum:\"+ str(Maximum)+'\\n')\n",
    "        f.write(\"Average:\"+ str(Average))\n"
   ]
  },
  {
   "cell_type": "code",
   "execution_count": 7,
   "id": "1cb94919",
   "metadata": {},
   "outputs": [],
   "source": [
    "Context.stop()"
   ]
  }
 ],
 "metadata": {
  "kernelspec": {
   "display_name": "Python 3 (ipykernel)",
   "language": "python",
   "name": "python3"
  },
  "language_info": {
   "codemirror_mode": {
    "name": "ipython",
    "version": 3
   },
   "file_extension": ".py",
   "mimetype": "text/x-python",
   "name": "python",
   "nbconvert_exporter": "python",
   "pygments_lexer": "ipython3",
   "version": "3.10.4"
  }
 },
 "nbformat": 4,
 "nbformat_minor": 5
}
