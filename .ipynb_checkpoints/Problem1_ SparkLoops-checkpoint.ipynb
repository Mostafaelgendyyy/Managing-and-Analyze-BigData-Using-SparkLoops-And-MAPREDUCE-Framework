{
 "cells": [
  {
   "cell_type": "code",
   "execution_count": 1,
   "id": "421b29ff",
   "metadata": {},
   "outputs": [],
   "source": [
    "import time\n",
    "from pyspark import SparkConf, SparkContext "
   ]
  },
  {
   "cell_type": "code",
   "execution_count": 2,
   "id": "16e3f554",
   "metadata": {},
   "outputs": [],
   "source": [
    "configurations = SparkConf().setAppName(\"Statistics\").setMaster(\"local\")\n",
    "Context = SparkContext(conf=configurations)"
   ]
  },
  {
   "cell_type": "code",
   "execution_count": 3,
   "id": "3dd3e2a0",
   "metadata": {},
   "outputs": [],
   "source": [
    "Dataset = Context.textFile(\"./pagecounts-20160101-000000_parsed.out/pagecounts-20160101-000000_parsed.out\")"
   ]
  },
  {
   "cell_type": "code",
   "execution_count": 4,
   "id": "c5af6831",
   "metadata": {},
   "outputs": [
    {
     "data": {
      "text/plain": [
       "./pagecounts-20160101-000000_parsed.out/pagecounts-20160101-000000_parsed.out MapPartitionsRDD[1] at textFile at NativeMethodAccessorImpl.java:0"
      ]
     },
     "execution_count": 4,
     "metadata": {},
     "output_type": "execute_result"
    }
   ],
   "source": [
    "Dataset"
   ]
  },
  {
   "cell_type": "code",
   "execution_count": 5,
   "id": "d4848b79",
   "metadata": {},
   "outputs": [
    {
     "name": "stdout",
     "output_type": "stream",
     "text": [
      "Time  37.79767894744873\n",
      "Minimum: 0\n",
      "Maximum: 141180155987\n",
      "Average: 132239.56957446598\n"
     ]
    }
   ],
   "source": [
    "#minimum, maximum, and average page size if the Dataset is not empty\n",
    "\n",
    "if Dataset.isEmpty():\n",
    "    print(\"No data found\")\n",
    "    \n",
    "else:\n",
    "    startTime = time.time()\n",
    "    Minimum = float(\"inf\")\n",
    "    Maximum = float(\"-inf\")\n",
    "    TOTAL = 0\n",
    "    COUNTER = 0\n",
    "    for Dataset in Dataset.toLocalIterator():\n",
    "        Record = Dataset.split(\" \")\n",
    "        RecordSize = int(Record[3])\n",
    "        if RecordSize < Minimum:\n",
    "            Minimum = RecordSize\n",
    "        if RecordSize > Maximum:\n",
    "            Maximum = RecordSize\n",
    "        TOTAL += RecordSize\n",
    "        COUNTER += 1\n",
    "    Average = TOTAL / COUNTER\n",
    "    \n",
    "    endTime = time.time()\n",
    "    TimeTaken=endTime - startTime\n",
    "    \n",
    "    print(\"Time \",TimeTaken)\n",
    "    print(\"Minimum:\", Minimum)\n",
    "    print(\"Maximum:\", Maximum)\n",
    "    print(\"Average:\", Average)\n",
    "    \n",
    "    #WRITING ON FILE\n",
    "    with open(\"Question_1_SparkLoops.txt\", \"w\") as f:\n",
    "        f.write(\"Time Taken for Process:\"+ str(TimeTaken)+'\\n')\n",
    "        f.write(\"Minimum:\"+ str(Minimum)+'\\n')\n",
    "        f.write(\"Maximum:\"+ str(Maximum)+'\\n')\n",
    "        f.write(\"Average:\"+ str(Average))"
   ]
  },
  {
   "cell_type": "code",
   "execution_count": 6,
   "id": "c94da2bb",
   "metadata": {},
   "outputs": [],
   "source": [
    "Context.stop()"
   ]
  }
 ],
 "metadata": {
  "kernelspec": {
   "display_name": "Python 3 (ipykernel)",
   "language": "python",
   "name": "python3"
  },
  "language_info": {
   "codemirror_mode": {
    "name": "ipython",
    "version": 3
   },
   "file_extension": ".py",
   "mimetype": "text/x-python",
   "name": "python",
   "nbconvert_exporter": "python",
   "pygments_lexer": "ipython3",
   "version": "3.10.4"
  }
 },
 "nbformat": 4,
 "nbformat_minor": 5
}
