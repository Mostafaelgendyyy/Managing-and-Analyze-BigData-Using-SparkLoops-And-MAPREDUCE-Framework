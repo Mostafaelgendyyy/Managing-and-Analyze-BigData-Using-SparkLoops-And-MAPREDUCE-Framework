{
 "cells": [
  {
   "cell_type": "code",
   "execution_count": 3,
   "id": "2c7978b0",
   "metadata": {},
   "outputs": [],
   "source": [
    "import time\n",
    "from pyspark import SparkConf, SparkContext,sql"
   ]
  },
  {
   "cell_type": "code",
   "execution_count": 4,
   "id": "9ac89189",
   "metadata": {},
   "outputs": [],
   "source": [
    "configurations = SparkConf().setAppName(\"UniqueTerms\").setMaster(\"local\")\n",
    "Context = SparkContext(conf=configurations)"
   ]
  },
  {
   "cell_type": "code",
   "execution_count": 5,
   "id": "ea42a61c",
   "metadata": {},
   "outputs": [
    {
     "data": {
      "text/plain": [
       "./pagecounts-20160101-000000_parsed.out/pagecounts-20160101-000000_parsed.out MapPartitionsRDD[1] at textFile at NativeMethodAccessorImpl.java:0"
      ]
     },
     "execution_count": 5,
     "metadata": {},
     "output_type": "execute_result"
    }
   ],
   "source": [
    "Dataset = Context.textFile(\"./pagecounts-20160101-000000_parsed.out/pagecounts-20160101-000000_parsed.out\")\n",
    "Dataset"
   ]
  },
  {
   "cell_type": "code",
   "execution_count": 7,
   "id": "aeafa413",
   "metadata": {},
   "outputs": [
    {
     "data": {
      "text/plain": [
       "[('271', 1),\n",
       " ('a.c', 1),\n",
       " ('category:user', 1),\n",
       " ('th', 1),\n",
       " ('chiron', 1),\n",
       " ('elias', 1),\n",
       " ('krase', 1),\n",
       " ('dassault', 1),\n",
       " ('rafaele', 1),\n",
       " ('e.desv', 1)]"
      ]
     },
     "execution_count": 7,
     "metadata": {},
     "output_type": "execute_result"
    }
   ],
   "source": [
    "PagesRDD = Dataset.map(lambda record : (record.split(' ')[1].lower())) #normalize data\n",
    "PagesRDD= PagesRDD.flatMap(lambda record: record.split('_'))\n",
    "PagesRDD = PagesRDD.map(lambda record: (record,1))\n",
    "\n",
    "PagesRDD.take(10)"
   ]
  },
  {
   "cell_type": "code",
   "execution_count": 8,
   "id": "17ebfde0",
   "metadata": {},
   "outputs": [
    {
     "name": "stdout",
     "output_type": "stream",
     "text": [
      "[('category:user', 509), ('krase', 6), ('e.desv', 6), ('page', 1192), ('requests', 180), ('special:contributions/5.232.61.79', 1), ('special:listfiles/betacommand', 1), ('p', 325), ('special:listfiles/nyttend', 1), ('special:log/md.', 1)]\n"
     ]
    }
   ],
   "source": [
    "startTime = time.time()\n",
    "Result = PagesRDD.reduceByKey(lambda x, y: x+y)\n",
    "counter = Result.count()\n",
    "endTime = time.time()\n",
    "print(Result.take(10))"
   ]
  },
  {
   "cell_type": "code",
   "execution_count": 9,
   "id": "770c0b86",
   "metadata": {},
   "outputs": [
    {
     "name": "stdout",
     "output_type": "stream",
     "text": [
      "Time Taken for Process: 27.621821641921997\n",
      "Unique Terms:  1793113\n"
     ]
    }
   ],
   "source": [
    "TimeTaken= endTime - startTime\n",
    "print(\"Time Taken for Process:\",TimeTaken)\n",
    "print(\"Unique Terms: \", str(counter))\n",
    "with open(\"Question_3_MapReduce.txt\", \"w\") as f:\n",
    "    f.write(\"Time Taken for Process:\"+ str(TimeTaken)+'\\n')\n",
    "    f.write(\"Unique Terms:\"+ str(counter)+'\\n')"
   ]
  },
  {
   "cell_type": "code",
   "execution_count": 10,
   "id": "0387cf8c",
   "metadata": {},
   "outputs": [],
   "source": [
    "Context.stop()"
   ]
  }
 ],
 "metadata": {
  "kernelspec": {
   "display_name": "Python 3 (ipykernel)",
   "language": "python",
   "name": "python3"
  },
  "language_info": {
   "codemirror_mode": {
    "name": "ipython",
    "version": 3
   },
   "file_extension": ".py",
   "mimetype": "text/x-python",
   "name": "python",
   "nbconvert_exporter": "python",
   "pygments_lexer": "ipython3",
   "version": "3.10.4"
  }
 },
 "nbformat": 4,
 "nbformat_minor": 5
}
