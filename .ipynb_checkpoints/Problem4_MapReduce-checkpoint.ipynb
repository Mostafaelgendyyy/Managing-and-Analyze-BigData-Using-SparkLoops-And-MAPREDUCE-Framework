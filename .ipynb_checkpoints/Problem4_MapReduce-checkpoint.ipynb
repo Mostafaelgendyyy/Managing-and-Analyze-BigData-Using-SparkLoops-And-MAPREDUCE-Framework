{
 "cells": [
  {
   "cell_type": "code",
   "execution_count": 1,
   "id": "cc63192e",
   "metadata": {},
   "outputs": [],
   "source": [
    "import time\n",
    "from pyspark import SparkConf, SparkContext "
   ]
  },
  {
   "cell_type": "code",
   "execution_count": 2,
   "id": "5111b965",
   "metadata": {},
   "outputs": [],
   "source": [
    "configurations = SparkConf().setAppName(\"Statistics\").setMaster(\"local\")\n",
    "Context = SparkContext(conf=configurations)"
   ]
  },
  {
   "cell_type": "code",
   "execution_count": 3,
   "id": "6380f04f",
   "metadata": {},
   "outputs": [],
   "source": [
    "Dataset = Context.textFile(\"./pagecounts-20160101-000000_parsed.out/pagecounts-20160101-000000_parsed.out\")\n"
   ]
  },
  {
   "cell_type": "code",
   "execution_count": 4,
   "id": "c2716bb6",
   "metadata": {},
   "outputs": [
    {
     "data": {
      "text/plain": [
       "./pagecounts-20160101-000000_parsed.out/pagecounts-20160101-000000_parsed.out MapPartitionsRDD[1] at textFile at NativeMethodAccessorImpl.java:0"
      ]
     },
     "execution_count": 4,
     "metadata": {},
     "output_type": "execute_result"
    }
   ],
   "source": [
    "Dataset"
   ]
  },
  {
   "cell_type": "code",
   "execution_count": 5,
   "id": "5f91f7b2",
   "metadata": {},
   "outputs": [
    {
     "data": {
      "text/plain": [
       "[('271_a.C', 1),\n",
       " ('Category:User_th', 1),\n",
       " ('Chiron_Elias_Krase', 1),\n",
       " ('Dassault_rafaele', 1),\n",
       " ('E.Desv', 1),\n",
       " ('File:Wiktionary-logo-en.png', 1),\n",
       " ('Indonesian_Wikipedia', 1),\n",
       " ('Main_Page', 1),\n",
       " ('Requests_for_new_languages/Wikipedia_Banyumasan', 1),\n",
       " ('Special:Contributions/203.144.160.245', 1)]"
      ]
     },
     "execution_count": 5,
     "metadata": {},
     "output_type": "execute_result"
    }
   ],
   "source": [
    "PagesRDD = Dataset.map(lambda record: (record.split(' ')[1],1))\n",
    "PagesRDD.take(10)"
   ]
  },
  {
   "cell_type": "code",
   "execution_count": 6,
   "id": "d9be7f8a",
   "metadata": {},
   "outputs": [
    {
     "name": "stdout",
     "output_type": "stream",
     "text": [
      "Time Taken for Process: 29.70044994354248\n"
     ]
    }
   ],
   "source": [
    "startTime = time.time()\n",
    "Reduced=PagesRDD.reduceByKey(lambda x,y: x+y)\n",
    "CombinedTitles_DICT=dict()\n",
    "CombinedTitles_DICT[\"\"]=Reduced.collect()\n",
    "endTime = time.time()\n",
    "TimeTaken= endTime - startTime\n",
    "print(\"Time Taken for Process:\",TimeTaken)\n",
    "with open(\"Question_4_MapReduce.txt\", \"w\", encoding=\"utf-8\") as f:\n",
    "    f.write(\"Time Taken for Process:\"+str(TimeTaken))\n",
    "    f.write(str(CombinedTitles_DICT[\"\"]))"
   ]
  },
  {
   "cell_type": "code",
   "execution_count": 8,
   "id": "718bd54a",
   "metadata": {},
   "outputs": [],
   "source": [
    "Context.stop()"
   ]
  }
 ],
 "metadata": {
  "kernelspec": {
   "display_name": "Python 3 (ipykernel)",
   "language": "python",
   "name": "python3"
  },
  "language_info": {
   "codemirror_mode": {
    "name": "ipython",
    "version": 3
   },
   "file_extension": ".py",
   "mimetype": "text/x-python",
   "name": "python",
   "nbconvert_exporter": "python",
   "pygments_lexer": "ipython3",
   "version": "3.10.4"
  }
 },
 "nbformat": 4,
 "nbformat_minor": 5
}
