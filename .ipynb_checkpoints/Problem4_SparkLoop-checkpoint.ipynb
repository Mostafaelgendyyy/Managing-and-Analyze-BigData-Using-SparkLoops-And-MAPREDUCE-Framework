{
 "cells": [
  {
   "cell_type": "code",
   "execution_count": 2,
   "id": "e9f410ae",
   "metadata": {},
   "outputs": [],
   "source": [
    "import time\n",
    "from pyspark import SparkConf, SparkContext "
   ]
  },
  {
   "cell_type": "code",
   "execution_count": 3,
   "id": "2f3e6fb3",
   "metadata": {},
   "outputs": [],
   "source": [
    "configurations = SparkConf().setAppName(\"wordThe\").setMaster(\"local\")\n",
    "Context = SparkContext(conf=configurations)"
   ]
  },
  {
   "cell_type": "code",
   "execution_count": 4,
   "id": "3ee3c591",
   "metadata": {},
   "outputs": [],
   "source": [
    "Dataset = Context.textFile(\"./pagecounts-20160101-000000_parsed.out/pagecounts-20160101-000000_parsed.out\")\n"
   ]
  },
  {
   "cell_type": "code",
   "execution_count": 5,
   "id": "efadd377",
   "metadata": {},
   "outputs": [
    {
     "data": {
      "text/plain": [
       "./pagecounts-20160101-000000_parsed.out/pagecounts-20160101-000000_parsed.out MapPartitionsRDD[1] at textFile at NativeMethodAccessorImpl.java:0"
      ]
     },
     "execution_count": 5,
     "metadata": {},
     "output_type": "execute_result"
    }
   ],
   "source": [
    "Dataset"
   ]
  },
  {
   "cell_type": "code",
   "execution_count": 7,
   "id": "707cd9b7",
   "metadata": {},
   "outputs": [
    {
     "name": "stderr",
     "output_type": "stream",
     "text": [
      "IOPub data rate exceeded.\n",
      "The notebook server will temporarily stop sending output\n",
      "to the client in order to avoid crashing it.\n",
      "To change this limit, set the config variable\n",
      "`--NotebookApp.iopub_data_rate_limit`.\n",
      "\n",
      "Current values:\n",
      "NotebookApp.iopub_data_rate_limit=1000000.0 (bytes/sec)\n",
      "NotebookApp.rate_limit_window=3.0 (secs)\n",
      "\n"
     ]
    },
    {
     "ename": "NameError",
     "evalue": "name 'Num_UniqueWords' is not defined",
     "output_type": "error",
     "traceback": [
      "\u001b[1;31m---------------------------------------------------------------------------\u001b[0m",
      "\u001b[1;31mNameError\u001b[0m                                 Traceback (most recent call last)",
      "Cell \u001b[1;32mIn[7], line 16\u001b[0m\n\u001b[0;32m     14\u001b[0m \u001b[38;5;28;01mwith\u001b[39;00m \u001b[38;5;28mopen\u001b[39m(\u001b[38;5;124m\"\u001b[39m\u001b[38;5;124mQuestion_3_SparkLoop.txt\u001b[39m\u001b[38;5;124m\"\u001b[39m, \u001b[38;5;124m\"\u001b[39m\u001b[38;5;124mw\u001b[39m\u001b[38;5;124m\"\u001b[39m) \u001b[38;5;28;01mas\u001b[39;00m f:\n\u001b[0;32m     15\u001b[0m     f\u001b[38;5;241m.\u001b[39mwrite(\u001b[38;5;124m\"\u001b[39m\u001b[38;5;124mTime Taken for Process:\u001b[39m\u001b[38;5;124m\"\u001b[39m\u001b[38;5;241m+\u001b[39m \u001b[38;5;28mstr\u001b[39m(TimeTaken)\u001b[38;5;241m+\u001b[39m\u001b[38;5;124m'\u001b[39m\u001b[38;5;130;01m\\n\u001b[39;00m\u001b[38;5;124m'\u001b[39m)\n\u001b[1;32m---> 16\u001b[0m     f\u001b[38;5;241m.\u001b[39mwrite(\u001b[38;5;124m\"\u001b[39m\u001b[38;5;124mUnique Terms: \u001b[39m\u001b[38;5;124m\"\u001b[39m\u001b[38;5;241m+\u001b[39m \u001b[38;5;28mstr\u001b[39m(\u001b[43mNum_UniqueWords\u001b[49m)\u001b[38;5;241m+\u001b[39m\u001b[38;5;124m'\u001b[39m\u001b[38;5;130;01m\\n\u001b[39;00m\u001b[38;5;124m'\u001b[39m)\n",
      "\u001b[1;31mNameError\u001b[0m: name 'Num_UniqueWords' is not defined"
     ]
    }
   ],
   "source": [
    "startTime = time.time()\n",
    "Uniquetitles=dict()\n",
    "for element in Dataset.toLocalIterator():\n",
    "    Record = element.split(\" \")[1].lower() # using lower Data Normalization\n",
    "    if Record in Uniquetitles:\n",
    "        Uniquetitles[Record]+=1\n",
    "    else: \n",
    "        Uniquetitles[Record]=1\n",
    "endTime = time.time()\n",
    "TimeTaken=endTime - startTime\n",
    "print(\"Time \",TimeTaken)\n",
    "print(\"Unique Terms: \", Uniquetitles)\n",
    "\n",
    "with open(\"Question_3_SparkLoop.txt\", \"w\") as f:\n",
    "    f.write(\"Time Taken for Process:\"+ str(TimeTaken)+'\\n')\n",
    "    f.write(\"Unique Terms: \"+ str(Uniquetitles)+'\\n')"
   ]
  },
  {
   "cell_type": "code",
   "execution_count": null,
   "id": "8327a8a4",
   "metadata": {},
   "outputs": [],
   "source": [
    "Context.stop()"
   ]
  }
 ],
 "metadata": {
  "kernelspec": {
   "display_name": "Python 3 (ipykernel)",
   "language": "python",
   "name": "python3"
  },
  "language_info": {
   "codemirror_mode": {
    "name": "ipython",
    "version": 3
   },
   "file_extension": ".py",
   "mimetype": "text/x-python",
   "name": "python",
   "nbconvert_exporter": "python",
   "pygments_lexer": "ipython3",
   "version": "3.10.4"
  }
 },
 "nbformat": 4,
 "nbformat_minor": 5
}
