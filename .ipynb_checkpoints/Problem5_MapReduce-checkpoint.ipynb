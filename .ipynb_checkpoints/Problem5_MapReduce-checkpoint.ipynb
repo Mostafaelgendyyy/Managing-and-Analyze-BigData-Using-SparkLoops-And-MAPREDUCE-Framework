{
 "cells": [
  {
   "cell_type": "code",
   "execution_count": 1,
   "id": "28e7c537",
   "metadata": {},
   "outputs": [],
   "source": [
    "import time\n",
    "from itertools import combinations # for combinations\n",
    "from pyspark import SparkConf, SparkContext,sql"
   ]
  },
  {
   "cell_type": "code",
   "execution_count": 2,
   "id": "e109051e",
   "metadata": {},
   "outputs": [],
   "source": [
    "configurations = SparkConf().setAppName(\"CombinedTitles\").setMaster(\"local\")\n",
    "Context = SparkContext(conf=configurations)"
   ]
  },
  {
   "cell_type": "code",
   "execution_count": 3,
   "id": "355eea49",
   "metadata": {},
   "outputs": [
    {
     "data": {
      "text/plain": [
       "./pagecounts-20160101-000000_parsed.out/pagecounts-20160101-000000_parsed.out MapPartitionsRDD[1] at textFile at NativeMethodAccessorImpl.java:0"
      ]
     },
     "execution_count": 3,
     "metadata": {},
     "output_type": "execute_result"
    }
   ],
   "source": [
    "Dataset = Context.textFile(\"./pagecounts-20160101-000000_parsed.out/pagecounts-20160101-000000_parsed.out\")\n",
    "Dataset"
   ]
  },
  {
   "cell_type": "code",
   "execution_count": 4,
   "id": "6e87be2b",
   "metadata": {},
   "outputs": [
    {
     "data": {
      "text/plain": [
       "[('271', 1),\n",
       " ('a.c', 1),\n",
       " ('category:user', 1),\n",
       " ('th', 1),\n",
       " ('chiron', 1),\n",
       " ('elias', 1),\n",
       " ('krase', 1),\n",
       " ('dassault', 1),\n",
       " ('rafaele', 1),\n",
       " ('e.desv', 1)]"
      ]
     },
     "execution_count": 4,
     "metadata": {},
     "output_type": "execute_result"
    }
   ],
   "source": [
    "PagesRDD = Dataset.map(lambda record : (record.split(' ')[1].lower())) #normalize data\n",
    "PagesRDD= PagesRDD.flatMap(lambda record: record.split('_'))\n",
    "PagesRDD = PagesRDD.map(lambda record: (record,1))\n",
    "\n",
    "PagesRDD.take(10)"
   ]
  },
  {
   "cell_type": "code",
   "execution_count": 5,
   "id": "66730af5",
   "metadata": {},
   "outputs": [
    {
     "data": {
      "text/plain": [
       "[('271_a.c', 'aa 271_a.C 1 4675'),\n",
       " ('category:user_th', 'aa Category:User_th 1 4770'),\n",
       " ('chiron_elias_krase', 'aa Chiron_Elias_Krase 1 4694'),\n",
       " ('dassault_rafaele', 'aa Dassault_rafaele 2 9372'),\n",
       " ('e.desv', 'aa E.Desv 1 4662'),\n",
       " ('file:wiktionary-logo-en.png', 'aa File:Wiktionary-logo-en.png 1 10752'),\n",
       " ('indonesian_wikipedia', 'aa Indonesian_Wikipedia 1 4679'),\n",
       " ('main_page', 'aa Main_Page 5 266946'),\n",
       " ('requests_for_new_languages/wikipedia_banyumasan',\n",
       "  'aa Requests_for_new_languages/Wikipedia_Banyumasan 1 4733'),\n",
       " ('special:contributions/203.144.160.245',\n",
       "  'aa Special:Contributions/203.144.160.245 1 5812')]"
      ]
     },
     "execution_count": 5,
     "metadata": {},
     "output_type": "execute_result"
    }
   ],
   "source": [
    "PagesRDD = Dataset.map(lambda record : (record.split(' ')[1].lower(),record))\n",
    "\n",
    "PagesRDD.take(10)"
   ]
  },
  {
   "cell_type": "code",
   "execution_count": 7,
   "id": "168f907d",
   "metadata": {},
   "outputs": [
    {
     "name": "stdout",
     "output_type": "stream",
     "text": [
      "Time Taken for Process: 40.05158352851868\n"
     ]
    }
   ],
   "source": [
    "startTime = time.time()\n",
    "CombinedTitles= PagesRDD.reduceByKey(lambda x, y: x+ \" , \" +y) # Delimeter for Records\n",
    "endTime = time.time()\n",
    "CombinedTitles_DICT=dict()\n",
    "CombinedTitles_DICT[\"\"]=CombinedTitles.collect()\n",
    "listCombinations=list()\n",
    "for TitlePage in CombinedTitles_DICT[\"\"]:\n",
    "    listt=TitlePage[1].split(\" , \")\n",
    "    listCombinations+=list(combinations(listt,2))\n",
    "    \n",
    "endTime = time.time()\n",
    "TimeTaken=endTime - startTime\n",
    "print(\"Time Taken for Process:\",TimeTaken)\n",
    "with open(\"Question_5_MapReduce.txt\", \"w\", encoding=\"utf-8\") as f:\n",
    "    f.write(\"Time Taken for Process:\",+str(TimeTaken)\n",
    "    for i in range (10):\n",
    "        f.write(str(listCombinations[i]))\n"
   ]
  },
  {
   "cell_type": "code",
   "execution_count": null,
   "id": "6dae9b6c",
   "metadata": {},
   "outputs": [],
   "source": [
    "Context.stop()"
   ]
  }
 ],
 "metadata": {
  "kernelspec": {
   "display_name": "Python 3 (ipykernel)",
   "language": "python",
   "name": "python3"
  },
  "language_info": {
   "codemirror_mode": {
    "name": "ipython",
    "version": 3
   },
   "file_extension": ".py",
   "mimetype": "text/x-python",
   "name": "python",
   "nbconvert_exporter": "python",
   "pygments_lexer": "ipython3",
   "version": "3.10.4"
  }
 },
 "nbformat": 4,
 "nbformat_minor": 5
}
