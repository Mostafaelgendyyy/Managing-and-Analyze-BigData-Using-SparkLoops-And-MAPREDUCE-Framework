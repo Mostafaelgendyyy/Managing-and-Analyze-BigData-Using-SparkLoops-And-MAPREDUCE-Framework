{
 "cells": [
  {
   "cell_type": "code",
   "execution_count": 15,
   "id": "52dba4a3",
   "metadata": {},
   "outputs": [],
   "source": [
    "import time\n",
    "from itertools import combinations # for combinations\n",
    "from pyspark import SparkConf, SparkContext "
   ]
  },
  {
   "cell_type": "code",
   "execution_count": 2,
   "id": "a61f5cef",
   "metadata": {},
   "outputs": [],
   "source": [
    "configurations = SparkConf().setAppName(\"CombinedTitles\").setMaster(\"local\")\n",
    "Context = SparkContext(conf=configurations)"
   ]
  },
  {
   "cell_type": "code",
   "execution_count": 3,
   "id": "c64abbfa",
   "metadata": {},
   "outputs": [
    {
     "data": {
      "text/plain": [
       "./pagecounts-20160101-000000_parsed.out/pagecounts-20160101-000000_parsed.out MapPartitionsRDD[1] at textFile at NativeMethodAccessorImpl.java:0"
      ]
     },
     "execution_count": 3,
     "metadata": {},
     "output_type": "execute_result"
    }
   ],
   "source": [
    "Dataset = Context.textFile(\"./pagecounts-20160101-000000_parsed.out/pagecounts-20160101-000000_parsed.out\")\n",
    "Dataset"
   ]
  },
  {
   "cell_type": "code",
   "execution_count": 18,
   "id": "d400dd34",
   "metadata": {},
   "outputs": [
    {
     "name": "stdout",
     "output_type": "stream",
     "text": [
      "Time Taken for Process:  42.631340980529785\n"
     ]
    }
   ],
   "source": [
    "startTime = time.time()\n",
    "CombinedTitlesDict=dict()\n",
    "for element in Dataset.toLocalIterator():\n",
    "    Record = element.split(\" \")[1].lower() # using lower Data Normalization ----> Title \n",
    "    if Record not in CombinedTitlesDict:\n",
    "        CombinedTitlesDict[Record] = []\n",
    "    else:\n",
    "        CombinedTitlesDict[Record].append(element)\n",
    "listCombinations=list()\n",
    "for Title in CombinedTitlesDict:\n",
    "    listt=CombinedTitlesDict[Title]\n",
    "    listCombinations+=list(combinations(listt,2))\n",
    "endTime = time.time()\n",
    "TimeTaken=endTime - startTime\n",
    "print(\"Time Taken for Process: \",TimeTaken)\n",
    "with open(\"Question_5_SparkLoops.txt\", \"w\", encoding=\"utf-8\") as f:\n",
    "    f.write(\"Time Taken for Process:\"+str(TimeTaken))\n",
    "    for i in range (10):\n",
    "        f.write(str(listCombinations[i]))"
   ]
  },
  {
   "cell_type": "code",
   "execution_count": 17,
   "id": "13c4ace6",
   "metadata": {},
   "outputs": [
    {
     "data": {
      "text/plain": [
       "[('az 271_a.C 1 6356', 'bcl 271_a.C 1 5068'),\n",
       " ('az 271_a.C 1 6356', 'be 271_a.C 1 6287'),\n",
       " ('bcl 271_a.C 1 5068', 'be 271_a.C 1 6287'),\n",
       " ('az 271_a.C 1 6356', 'bcl 271_a.C 1 5068'),\n",
       " ('az 271_a.C 1 6356', 'be 271_a.C 1 6287'),\n",
       " ('bcl 271_a.C 1 5068', 'be 271_a.C 1 6287')]"
      ]
     },
     "execution_count": 17,
     "metadata": {},
     "output_type": "execute_result"
    }
   ],
   "source": [
    "# CombinedTitlesDict['271_a.c']\n",
    "# listt=CombinedTitlesDict[Title]\n",
    "# listCombinations+=list(combinations(listt,2))\n",
    "# listCombinations"
   ]
  }
 ],
 "metadata": {
  "kernelspec": {
   "display_name": "Python 3 (ipykernel)",
   "language": "python",
   "name": "python3"
  },
  "language_info": {
   "codemirror_mode": {
    "name": "ipython",
    "version": 3
   },
   "file_extension": ".py",
   "mimetype": "text/x-python",
   "name": "python",
   "nbconvert_exporter": "python",
   "pygments_lexer": "ipython3",
   "version": "3.10.4"
  }
 },
 "nbformat": 4,
 "nbformat_minor": 5
}
