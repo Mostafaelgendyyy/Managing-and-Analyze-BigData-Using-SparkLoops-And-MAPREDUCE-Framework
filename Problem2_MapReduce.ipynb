{
 "cells": [
  {
   "cell_type": "code",
   "execution_count": 1,
   "id": "23ede977",
   "metadata": {},
   "outputs": [],
   "source": [
    "import time\n",
    "from pyspark import SparkConf, SparkContext "
   ]
  },
  {
   "cell_type": "code",
   "execution_count": 2,
   "id": "eb24e4f9",
   "metadata": {},
   "outputs": [],
   "source": [
    "configurations = SparkConf().setAppName(\"wordThe\").setMaster(\"local\")\n",
    "Context = SparkContext(conf=configurations)"
   ]
  },
  {
   "cell_type": "code",
   "execution_count": 3,
   "id": "0e4874f1",
   "metadata": {},
   "outputs": [],
   "source": [
    "Dataset = Context.textFile(\"./pagecounts-20160101-000000_parsed.out/pagecounts-20160101-000000_parsed.out\")\n"
   ]
  },
  {
   "cell_type": "code",
   "execution_count": 4,
   "id": "e8407dfe",
   "metadata": {},
   "outputs": [
    {
     "data": {
      "text/plain": [
       "./pagecounts-20160101-000000_parsed.out/pagecounts-20160101-000000_parsed.out MapPartitionsRDD[1] at textFile at NativeMethodAccessorImpl.java:0"
      ]
     },
     "execution_count": 4,
     "metadata": {},
     "output_type": "execute_result"
    }
   ],
   "source": [
    "Dataset"
   ]
  },
  {
   "cell_type": "code",
   "execution_count": 5,
   "id": "c6dd8e06",
   "metadata": {},
   "outputs": [],
   "source": [
    "PagesRDD= Dataset.filter(lambda record: record.split(' ')[1].lower().startswith(\"the\"))"
   ]
  },
  {
   "cell_type": "code",
   "execution_count": 6,
   "id": "27eae885",
   "metadata": {},
   "outputs": [],
   "source": [
    "PagesRDD_NotEN= Dataset.filter(lambda record: record.split(' ')[1].lower().startswith(\"the\") and \n",
    "                               record.split(' ')[0].lower() != \"en\")\n"
   ]
  },
  {
   "cell_type": "code",
   "execution_count": 11,
   "id": "47bf63ff",
   "metadata": {},
   "outputs": [],
   "source": [
    "EN=\"en\""
   ]
  },
  {
   "cell_type": "code",
   "execution_count": 17,
   "id": "bb8643dc",
   "metadata": {},
   "outputs": [
    {
     "data": {
      "text/plain": [
       "10292"
      ]
     },
     "execution_count": 17,
     "metadata": {},
     "output_type": "execute_result"
    }
   ],
   "source": [
    "cnt= Dataset.filter(lambda record:  record.split(' ')[0]!= EN and \n",
    "                    record.split(' ')[1].startswith(\"The\")\n",
    "                               ).count()\n",
    "\n",
    "cnt"
   ]
  },
  {
   "cell_type": "code",
   "execution_count": null,
   "id": "b48301ec",
   "metadata": {},
   "outputs": [],
   "source": [
    "startTime = time.time()\n",
    "Counter_the = PagesRDD.count()\n",
    "\n",
    "Counter_the_notEN = PagesRDD_NotEN.count()\n",
    "\n",
    "endTime = time.time()\n",
    "TimeTaken=endTime - startTime\n",
    "print(\"Time Taken for Process:\",TimeTaken)\n",
    "print (\"Count Starts with the: \",Counter_the)\n",
    "print (\"Count Starts with the and not EN: \",Counter_the_notEN)\n",
    "\n",
    "with open(\"Question_2_MapReduce.txt\", \"w\") as f:\n",
    "    f.write(\"Time Taken for Process:\"+ str(TimeTaken)+'\\n')\n",
    "    f.write(\"Count Starts with the: \"+ str(Counter_the)+'\\n')\n",
    "    f.write(\"Count Starts with the and not EN: \"+ str(Counter_the_notEN)+'\\n')"
   ]
  },
  {
   "cell_type": "code",
   "execution_count": null,
   "id": "1e0597c4",
   "metadata": {},
   "outputs": [],
   "source": [
    "Context.stop()"
   ]
  }
 ],
 "metadata": {
  "kernelspec": {
   "display_name": "Python 3 (ipykernel)",
   "language": "python",
   "name": "python3"
  },
  "language_info": {
   "codemirror_mode": {
    "name": "ipython",
    "version": 3
   },
   "file_extension": ".py",
   "mimetype": "text/x-python",
   "name": "python",
   "nbconvert_exporter": "python",
   "pygments_lexer": "ipython3",
   "version": "3.10.4"
  }
 },
 "nbformat": 4,
 "nbformat_minor": 5
}
