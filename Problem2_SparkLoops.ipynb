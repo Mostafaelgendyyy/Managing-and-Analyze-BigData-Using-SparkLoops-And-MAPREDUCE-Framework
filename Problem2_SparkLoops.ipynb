{
 "cells": [
  {
   "cell_type": "code",
   "execution_count": 1,
   "id": "6fbe2426",
   "metadata": {},
   "outputs": [],
   "source": [
    "import time\n",
    "from pyspark import SparkConf, SparkContext "
   ]
  },
  {
   "cell_type": "code",
   "execution_count": 2,
   "id": "cd3fc34e",
   "metadata": {},
   "outputs": [],
   "source": [
    "configurations = SparkConf().setAppName(\"wordThe\").setMaster(\"local\")\n",
    "Context = SparkContext(conf=configurations)"
   ]
  },
  {
   "cell_type": "code",
   "execution_count": 3,
   "id": "64c4061f",
   "metadata": {},
   "outputs": [],
   "source": [
    "Dataset = Context.textFile(\"./pagecounts-20160101-000000_parsed.out/pagecounts-20160101-000000_parsed.out\")\n"
   ]
  },
  {
   "cell_type": "code",
   "execution_count": 4,
   "id": "416ca6dd",
   "metadata": {},
   "outputs": [
    {
     "data": {
      "text/plain": [
       "./pagecounts-20160101-000000_parsed.out/pagecounts-20160101-000000_parsed.out MapPartitionsRDD[1] at textFile at NativeMethodAccessorImpl.java:0"
      ]
     },
     "execution_count": 4,
     "metadata": {},
     "output_type": "execute_result"
    }
   ],
   "source": [
    "Dataset"
   ]
  },
  {
   "cell_type": "code",
   "execution_count": 5,
   "id": "08be9a2d",
   "metadata": {},
   "outputs": [
    {
     "name": "stdout",
     "output_type": "stream",
     "text": [
      "Time  41.1828670501709\n",
      "Count Starts with the:  42010\n",
      "Count Starts with the and not EN:  9255\n"
     ]
    }
   ],
   "source": [
    "startTime = time.time()\n",
    "Counter_the = 0\n",
    "Counter_the_notEN = 0\n",
    "EN =\"en\"\n",
    "for element in Dataset.toLocalIterator():\n",
    "    Record = element.split(\" \")\n",
    "    if Record[1].lower().startswith(\"the_\"): \n",
    "        Counter_the +=1\n",
    "        if EN.lower() != Record[0].lower() :\n",
    "            Counter_the_notEN +=1\n",
    "endTime = time.time()\n",
    "TimeTaken=endTime - startTime\n",
    "print(\"Time \",TimeTaken)\n",
    "print (\"Count Starts with the: \",Counter_the)\n",
    "print (\"Count Starts with the and not EN: \",Counter_the_notEN)\n",
    "\n",
    "with open(\"Question_2_SparkLoops.txt\", \"w\") as f:\n",
    "    f.write(\"Time Taken for Process:\"+ str(TimeTaken)+'\\n')\n",
    "    f.write(\"Count Starts with the: \"+ str(Counter_the)+'\\n')\n",
    "    f.write(\"Count Starts with the and not EN: \"+ str(Counter_the_notEN)+'\\n')"
   ]
  },
  {
   "cell_type": "code",
   "execution_count": 6,
   "id": "a9abcd49",
   "metadata": {},
   "outputs": [],
   "source": [
    "Context.stop()"
   ]
  }
 ],
 "metadata": {
  "kernelspec": {
   "display_name": "Python 3 (ipykernel)",
   "language": "python",
   "name": "python3"
  },
  "language_info": {
   "codemirror_mode": {
    "name": "ipython",
    "version": 3
   },
   "file_extension": ".py",
   "mimetype": "text/x-python",
   "name": "python",
   "nbconvert_exporter": "python",
   "pygments_lexer": "ipython3",
   "version": "3.10.4"
  }
 },
 "nbformat": 4,
 "nbformat_minor": 5
}
