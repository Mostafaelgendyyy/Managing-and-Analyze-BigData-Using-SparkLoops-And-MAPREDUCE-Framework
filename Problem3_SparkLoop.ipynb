{
 "cells": [
  {
   "cell_type": "code",
   "execution_count": 1,
   "id": "8d4c85ae",
   "metadata": {},
   "outputs": [],
   "source": [
    "import time\n",
    "from pyspark import SparkConf, SparkContext "
   ]
  },
  {
   "cell_type": "code",
   "execution_count": 2,
   "id": "033eb05c",
   "metadata": {},
   "outputs": [],
   "source": [
    "configurations = SparkConf().setAppName(\"wordThe\").setMaster(\"local\")\n",
    "Context = SparkContext(conf=configurations)"
   ]
  },
  {
   "cell_type": "code",
   "execution_count": 3,
   "id": "dcbd2a4f",
   "metadata": {},
   "outputs": [],
   "source": [
    "Dataset = Context.textFile(\"./pagecounts-20160101-000000_parsed.out/pagecounts-20160101-000000_parsed.out\")\n"
   ]
  },
  {
   "cell_type": "code",
   "execution_count": 4,
   "id": "febb8522",
   "metadata": {},
   "outputs": [
    {
     "data": {
      "text/plain": [
       "./pagecounts-20160101-000000_parsed.out/pagecounts-20160101-000000_parsed.out MapPartitionsRDD[1] at textFile at NativeMethodAccessorImpl.java:0"
      ]
     },
     "execution_count": 4,
     "metadata": {},
     "output_type": "execute_result"
    }
   ],
   "source": [
    "Dataset"
   ]
  },
  {
   "cell_type": "code",
   "execution_count": 6,
   "id": "2999088e",
   "metadata": {},
   "outputs": [
    {
     "name": "stdout",
     "output_type": "stream",
     "text": [
      "Time  38.17649221420288\n",
      "Unique Terms:  1793113\n"
     ]
    }
   ],
   "source": [
    "startTime = time.time()\n",
    "UniqueWords=dict()\n",
    "for element in Dataset.toLocalIterator():\n",
    "    Record = element.split(\" \")[1].lower() # using lower Data Normalization\n",
    "    RecordSplitted=Record.split(\"_\")\n",
    "    for w in RecordSplitted: \n",
    "        if w in UniqueWords:\n",
    "            UniqueWords[w]+=1\n",
    "        else: \n",
    "            UniqueWords[w]=1\n",
    "Num_UniqueWords =len(UniqueWords)\n",
    "endTime = time.time()\n",
    "TimeTaken=endTime - startTime\n",
    "print(\"Time \",TimeTaken)\n",
    "print(\"Unique Terms: \", Num_UniqueWords)\n",
    "\n",
    "with open(\"Question_3_SparkLoop.txt\", \"w\") as f:\n",
    "    f.write(\"Time Taken for Process:\"+ str(TimeTaken)+'\\n')\n",
    "    f.write(\"Unique Terms: \"+ str(Num_UniqueWords)+'\\n')"
   ]
  },
  {
   "cell_type": "code",
   "execution_count": null,
   "id": "261d6f8c",
   "metadata": {},
   "outputs": [],
   "source": [
    "Context.stop()"
   ]
  }
 ],
 "metadata": {
  "kernelspec": {
   "display_name": "Python 3 (ipykernel)",
   "language": "python",
   "name": "python3"
  },
  "language_info": {
   "codemirror_mode": {
    "name": "ipython",
    "version": 3
   },
   "file_extension": ".py",
   "mimetype": "text/x-python",
   "name": "python",
   "nbconvert_exporter": "python",
   "pygments_lexer": "ipython3",
   "version": "3.10.4"
  }
 },
 "nbformat": 4,
 "nbformat_minor": 5
}
